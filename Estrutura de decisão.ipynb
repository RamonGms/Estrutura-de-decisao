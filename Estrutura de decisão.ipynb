{
 "cells": [
  {
   "cell_type": "code",
   "execution_count": 4,
   "id": "cf145fb0-6cd8-4f18-97ce-1a41c78e2574",
   "metadata": {},
   "outputs": [
    {
     "name": "stdout",
     "output_type": "stream",
     "text": [
      "Aprovado\n",
      "Parabéns!\n"
     ]
    }
   ],
   "source": [
    "nota = 7\n",
    "if nota >=7:\n",
    "    print(\"Aprovado\")\n",
    "    print(\"Parabéns!\")\n",
    "else:\n",
    "    print(\"Reprovado\")"
   ]
  },
  {
   "cell_type": "code",
   "execution_count": 5,
   "id": "ec5a83ba-3d6e-409b-b708-020fbc525d8f",
   "metadata": {},
   "outputs": [
    {
     "name": "stdout",
     "output_type": "stream",
     "text": [
      "Reprovado\n"
     ]
    }
   ],
   "source": [
    "#muda a nota da variável\n",
    "nota = 5\n",
    "if nota >=7:\n",
    "    print(\"Aprovado\")\n",
    "else:\n",
    "    print(\"Reprovado\")"
   ]
  },
  {
   "cell_type": "code",
   "execution_count": 7,
   "id": "40b869e0-a004-4c31-9b61-bf4991c00339",
   "metadata": {},
   "outputs": [
    {
     "name": "stdout",
     "output_type": "stream",
     "text": [
      "Reprovado\n"
     ]
    }
   ],
   "source": [
    "#testar com com 4,5 e 7\n",
    "nota = 4\n",
    "if nota <= 4:\n",
    "    print(\"Reprovado\")\n",
    "elif nota > 4 and nota <= 6:\n",
    "    print(\"Exame\")\n",
    "else:\n",
    "    print(\"Aprovado\")"
   ]
  },
  {
   "cell_type": "code",
   "execution_count": null,
   "id": "4dddeb2a-fcf6-417d-b563-230d9950a938",
   "metadata": {},
   "outputs": [],
   "source": []
  }
 ],
 "metadata": {
  "kernelspec": {
   "display_name": "Python 3 (ipykernel)",
   "language": "python",
   "name": "python3"
  },
  "language_info": {
   "codemirror_mode": {
    "name": "ipython",
    "version": 3
   },
   "file_extension": ".py",
   "mimetype": "text/x-python",
   "name": "python",
   "nbconvert_exporter": "python",
   "pygments_lexer": "ipython3",
   "version": "3.10.9"
  }
 },
 "nbformat": 4,
 "nbformat_minor": 5
}
